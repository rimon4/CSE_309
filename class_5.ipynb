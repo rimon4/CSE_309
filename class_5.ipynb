{
  "nbformat": 4,
  "nbformat_minor": 0,
  "metadata": {
    "colab": {
      "name": "class_5.ipynb",
      "provenance": [],
      "authorship_tag": "ABX9TyNiDzguPQd534582eAduwdi",
      "include_colab_link": true
    },
    "kernelspec": {
      "name": "python3",
      "display_name": "Python 3"
    }
  },
  "cells": [
    {
      "cell_type": "markdown",
      "metadata": {
        "id": "view-in-github",
        "colab_type": "text"
      },
      "source": [
        "<a href=\"https://colab.research.google.com/github/rimon4/CSE_309/blob/master/class_5.ipynb\" target=\"_parent\"><img src=\"https://colab.research.google.com/assets/colab-badge.svg\" alt=\"Open In Colab\"/></a>"
      ]
    },
    {
      "cell_type": "code",
      "metadata": {
        "id": "XEh6BQOOn-PB",
        "colab_type": "code",
        "colab": {}
      },
      "source": [
        ""
      ],
      "execution_count": null,
      "outputs": []
    },
    {
      "cell_type": "markdown",
      "metadata": {
        "id": "z-L6_yo8oDYj",
        "colab_type": "text"
      },
      "source": [
        "LOOP and RANGE"
      ]
    },
    {
      "cell_type": "markdown",
      "metadata": {
        "id": "SJSn8K7tozgM",
        "colab_type": "text"
      },
      "source": [
        ""
      ]
    },
    {
      "cell_type": "markdown",
      "metadata": {
        "id": "zhfKCEQboCYi",
        "colab_type": "text"
      },
      "source": [
        ""
      ]
    }
  ]
}